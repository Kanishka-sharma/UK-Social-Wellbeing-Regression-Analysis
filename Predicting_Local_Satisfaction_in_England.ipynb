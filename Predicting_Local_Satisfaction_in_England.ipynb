{
 "cells": [
  {
   "cell_type": "markdown",
   "id": "e21472c7",
   "metadata": {},
   "source": [
    "# Predicting Local Satisfaction in England\n",
    "**Multivariate regression analysis of UK social wellbeing indicators**  \n",
    "\n",
    "**Notebook contents:**  \n",
    "- Executive summary (non-technical)  \n",
    "- Findings with visuals (for stakeholders)  \n",
    "- Statistical methodology, model building and diagnostics (for data scientists)  \n",
    "- Appendix: annotated R code and region-wise models\n"
   ]
  },
  {
   "cell_type": "code",
   "execution_count": 41,
   "id": "27e3da09",
   "metadata": {
    "vscode": {
     "languageId": "r"
    }
   },
   "outputs": [],
   "source": [
    "# Load libraries\n",
    "library(ggplot2)\n",
    "library(data.table)\n",
    "library(readr)\n",
    "library(tidyverse)\n",
    "library(broom)\n",
    "library(knitr)\n",
    "library(kableExtra)\n",
    "library(car)          \n",
    "library(ggpubr)       \n",
    "\n",
    "# For reproducibility\n",
    "set.seed(123)\n"
   ]
  },
  {
   "cell_type": "markdown",
   "id": "8de092d6",
   "metadata": {},
   "source": [
    "### Executive Summary\n",
    "\n",
    "This project applies multiple linear regression to identify factors influencing residents’ satisfaction across England. Using national wellbeing data, the analysis links perceptions of community cohesion, belonging, and local issues to overall satisfaction.\n",
    "\n",
    "Key insights:\n",
    "\n",
    "- Community cohesion (GetOnWell) and belonging (Belong) strongly increase satisfaction.\n",
    "\n",
    "- Perceived drug problems (DrugUse) significantly reduce satisfaction across most regions.\n",
    "\n",
    "- Influence plays a smaller, region-specific role.\n",
    "\n",
    "- Regional variation suggests that tailored, area-focused policies are most effective.\n",
    "\n",
    "Policy takeaway:\n",
    "Enhancing community bonds and addressing drug-related concerns can meaningfully improve public satisfaction."
   ]
  },
  {
   "cell_type": "markdown",
   "id": "22c92b57",
   "metadata": {},
   "source": [
    "## Data Loading and Initial Checks\n",
    "\n",
    "This section loads the data, inspects basic structure, renames columns for convenience, and checks for missing values.\n"
   ]
  },
  {
   "cell_type": "code",
   "execution_count": null,
   "id": "d6c60a29",
   "metadata": {
    "vscode": {
     "languageId": "r"
    }
   },
   "outputs": [
    {
     "name": "stderr",
     "output_type": "stream",
     "text": [
      "\u001b[1mRows: \u001b[22m\u001b[34m352\u001b[39m \u001b[1mColumns: \u001b[22m\u001b[34m7\u001b[39m\n",
      "\u001b[36m──\u001b[39m \u001b[1mColumn specification\u001b[22m \u001b[36m────────────────────────────────────────────────────────\u001b[39m\n",
      "\u001b[1mDelimiter:\u001b[22m \",\"\n",
      "\u001b[31mchr\u001b[39m (2): Authority, Area\n",
      "\u001b[32mdbl\u001b[39m (5): Influence_Decisions, Get_On_Well, Belong, Drug_Use_And_Selling, Ove...\n",
      "\n",
      "\u001b[36mℹ\u001b[39m Use `spec()` to retrieve the full column specification for this data.\n",
      "\u001b[36mℹ\u001b[39m Specify the column types or set `show_col_types = FALSE` to quiet this message.\n"
     ]
    },
    {
     "name": "stdout",
     "output_type": "stream",
     "text": [
      "Rows: 352\n",
      "Columns: 7\n",
      "$ Authority            \u001b[3m\u001b[90m<chr>\u001b[39m\u001b[23m \"City of London LB\"\u001b[90m, \u001b[39m\"Barking and Dagenham LB\"\u001b[90m, \u001b[39m\"…\n",
      "$ Influence_Decisions  \u001b[3m\u001b[90m<dbl>\u001b[39m\u001b[23m 41.8\u001b[90m, \u001b[39m37.0\u001b[90m, \u001b[39m37.3\u001b[90m, \u001b[39m26.4\u001b[90m, \u001b[39m40.0\u001b[90m, \u001b[39m26.8\u001b[90m, \u001b[39m36.1\u001b[90m, \u001b[39m33.8\u001b[90m, \u001b[39m3…\n",
      "$ Get_On_Well          \u001b[3m\u001b[90m<dbl>\u001b[39m\u001b[23m 91.6\u001b[90m, \u001b[39m49.1\u001b[90m, \u001b[39m83.4\u001b[90m, \u001b[39m69.2\u001b[90m, \u001b[39m76.8\u001b[90m, \u001b[39m81.2\u001b[90m, \u001b[39m81.7\u001b[90m, \u001b[39m76.6\u001b[90m, \u001b[39m7…\n",
      "$ Belong               \u001b[3m\u001b[90m<dbl>\u001b[39m\u001b[23m 58.7\u001b[90m, \u001b[39m44.8\u001b[90m, \u001b[39m56.8\u001b[90m, \u001b[39m54.5\u001b[90m, \u001b[39m48.9\u001b[90m, \u001b[39m57.4\u001b[90m, \u001b[39m51.9\u001b[90m, \u001b[39m51.1\u001b[90m, \u001b[39m4…\n",
      "$ Drug_Use_And_Selling \u001b[3m\u001b[90m<dbl>\u001b[39m\u001b[23m 11.7\u001b[90m, \u001b[39m52.1\u001b[90m, \u001b[39m26.5\u001b[90m, \u001b[39m30.3\u001b[90m, \u001b[39m44.1\u001b[90m, \u001b[39m22.9\u001b[90m, \u001b[39m45.0\u001b[90m, \u001b[39m33.2\u001b[90m, \u001b[39m3…\n",
      "$ Area                 \u001b[3m\u001b[90m<chr>\u001b[39m\u001b[23m \"London\"\u001b[90m, \u001b[39m\"London\"\u001b[90m, \u001b[39m\"London\"\u001b[90m, \u001b[39m\"London\"\u001b[90m, \u001b[39m\"London\"\u001b[90m,\u001b[39m…\n",
      "$ Overall              \u001b[3m\u001b[90m<dbl>\u001b[39m\u001b[23m 92.4\u001b[90m, \u001b[39m56.6\u001b[90m, \u001b[39m79.5\u001b[90m, \u001b[39m73.9\u001b[90m, \u001b[39m68.3\u001b[90m, \u001b[39m83.8\u001b[90m, \u001b[39m81.7\u001b[90m, \u001b[39m71.3\u001b[90m, \u001b[39m6…\n"
     ]
    }
   ],
   "source": [
    "# Load data\n",
    "data <- read_csv(\"data/UKContentment.csv\")\n",
    "\n",
    "# Show top rows and structure\n",
    "glimpse(data)\n"
   ]
  },
  {
   "cell_type": "code",
   "execution_count": 43,
   "id": "55c94364",
   "metadata": {
    "vscode": {
     "languageId": "r"
    }
   },
   "outputs": [
    {
     "data": {
      "text/html": [
       "<table class=\"dataframe\">\n",
       "<caption>A tibble: 6 × 7</caption>\n",
       "<thead>\n",
       "\t<tr><th scope=col>Authority</th><th scope=col>Influence_Decisions</th><th scope=col>Get_On_Well</th><th scope=col>Belong</th><th scope=col>Drug_Use_And_Selling</th><th scope=col>Area</th><th scope=col>Overall</th></tr>\n",
       "\t<tr><th scope=col>&lt;chr&gt;</th><th scope=col>&lt;dbl&gt;</th><th scope=col>&lt;dbl&gt;</th><th scope=col>&lt;dbl&gt;</th><th scope=col>&lt;dbl&gt;</th><th scope=col>&lt;chr&gt;</th><th scope=col>&lt;dbl&gt;</th></tr>\n",
       "</thead>\n",
       "<tbody>\n",
       "\t<tr><td>City of London LB      </td><td>41.8</td><td>91.6</td><td>58.7</td><td>11.7</td><td>London</td><td>92.4</td></tr>\n",
       "\t<tr><td>Barking and Dagenham LB</td><td>37.0</td><td>49.1</td><td>44.8</td><td>52.1</td><td>London</td><td>56.6</td></tr>\n",
       "\t<tr><td>Barnet LB              </td><td>37.3</td><td>83.4</td><td>56.8</td><td>26.5</td><td>London</td><td>79.5</td></tr>\n",
       "\t<tr><td>Bexley LB              </td><td>26.4</td><td>69.2</td><td>54.5</td><td>30.3</td><td>London</td><td>73.9</td></tr>\n",
       "\t<tr><td>Brent LB               </td><td>40.0</td><td>76.8</td><td>48.9</td><td>44.1</td><td>London</td><td>68.3</td></tr>\n",
       "\t<tr><td>Bromley LB             </td><td>26.8</td><td>81.2</td><td>57.4</td><td>22.9</td><td>London</td><td>83.8</td></tr>\n",
       "</tbody>\n",
       "</table>\n"
      ],
      "text/latex": [
       "A tibble: 6 × 7\n",
       "\\begin{tabular}{lllllll}\n",
       " Authority & Influence\\_Decisions & Get\\_On\\_Well & Belong & Drug\\_Use\\_And\\_Selling & Area & Overall\\\\\n",
       " <chr> & <dbl> & <dbl> & <dbl> & <dbl> & <chr> & <dbl>\\\\\n",
       "\\hline\n",
       "\t City of London LB       & 41.8 & 91.6 & 58.7 & 11.7 & London & 92.4\\\\\n",
       "\t Barking and Dagenham LB & 37.0 & 49.1 & 44.8 & 52.1 & London & 56.6\\\\\n",
       "\t Barnet LB               & 37.3 & 83.4 & 56.8 & 26.5 & London & 79.5\\\\\n",
       "\t Bexley LB               & 26.4 & 69.2 & 54.5 & 30.3 & London & 73.9\\\\\n",
       "\t Brent LB                & 40.0 & 76.8 & 48.9 & 44.1 & London & 68.3\\\\\n",
       "\t Bromley LB              & 26.8 & 81.2 & 57.4 & 22.9 & London & 83.8\\\\\n",
       "\\end{tabular}\n"
      ],
      "text/markdown": [
       "\n",
       "A tibble: 6 × 7\n",
       "\n",
       "| Authority &lt;chr&gt; | Influence_Decisions &lt;dbl&gt; | Get_On_Well &lt;dbl&gt; | Belong &lt;dbl&gt; | Drug_Use_And_Selling &lt;dbl&gt; | Area &lt;chr&gt; | Overall &lt;dbl&gt; |\n",
       "|---|---|---|---|---|---|---|\n",
       "| City of London LB       | 41.8 | 91.6 | 58.7 | 11.7 | London | 92.4 |\n",
       "| Barking and Dagenham LB | 37.0 | 49.1 | 44.8 | 52.1 | London | 56.6 |\n",
       "| Barnet LB               | 37.3 | 83.4 | 56.8 | 26.5 | London | 79.5 |\n",
       "| Bexley LB               | 26.4 | 69.2 | 54.5 | 30.3 | London | 73.9 |\n",
       "| Brent LB                | 40.0 | 76.8 | 48.9 | 44.1 | London | 68.3 |\n",
       "| Bromley LB              | 26.8 | 81.2 | 57.4 | 22.9 | London | 83.8 |\n",
       "\n"
      ],
      "text/plain": [
       "  Authority               Influence_Decisions Get_On_Well Belong\n",
       "1 City of London LB       41.8                91.6        58.7  \n",
       "2 Barking and Dagenham LB 37.0                49.1        44.8  \n",
       "3 Barnet LB               37.3                83.4        56.8  \n",
       "4 Bexley LB               26.4                69.2        54.5  \n",
       "5 Brent LB                40.0                76.8        48.9  \n",
       "6 Bromley LB              26.8                81.2        57.4  \n",
       "  Drug_Use_And_Selling Area   Overall\n",
       "1 11.7                 London 92.4   \n",
       "2 52.1                 London 56.6   \n",
       "3 26.5                 London 79.5   \n",
       "4 30.3                 London 73.9   \n",
       "5 44.1                 London 68.3   \n",
       "6 22.9                 London 83.8   "
      ]
     },
     "metadata": {},
     "output_type": "display_data"
    }
   ],
   "source": [
    "head(data)"
   ]
  },
  {
   "cell_type": "code",
   "execution_count": 44,
   "id": "fe83b843",
   "metadata": {
    "vscode": {
     "languageId": "r"
    }
   },
   "outputs": [
    {
     "data": {
      "text/plain": [
       "  Authority         Influence_Decisions  Get_On_Well        Belong     \n",
       " Length:352         Min.   :19.80       Min.   :49.10   Min.   :42.80  \n",
       " Class :character   1st Qu.:26.07       1st Qu.:74.00   1st Qu.:55.30  \n",
       " Mode  :character   Median :28.20       Median :78.40   Median :59.80  \n",
       "                    Mean   :28.68       Mean   :77.18   Mean   :59.66  \n",
       "                    3rd Qu.:30.80       3rd Qu.:81.62   3rd Qu.:63.70  \n",
       "                    Max.   :45.70       Max.   :91.60   Max.   :75.10  \n",
       " Drug_Use_And_Selling     Area              Overall     \n",
       " Min.   :10.30        Length:352         Min.   :56.00  \n",
       " 1st Qu.:21.88        Class :character   1st Qu.:76.50  \n",
       " Median :26.80        Mode  :character   Median :82.95  \n",
       " Mean   :28.33                           Mean   :81.24  \n",
       " 3rd Qu.:33.33                           3rd Qu.:86.42  \n",
       " Max.   :60.70                           Max.   :94.20  "
      ]
     },
     "metadata": {},
     "output_type": "display_data"
    }
   ],
   "source": [
    "summary(data)"
   ]
  },
  {
   "cell_type": "code",
   "execution_count": 45,
   "id": "d63621a8",
   "metadata": {
    "vscode": {
     "languageId": "r"
    }
   },
   "outputs": [
    {
     "data": {
      "text/html": [
       "<style>\n",
       ".list-inline {list-style: none; margin:0; padding: 0}\n",
       ".list-inline>li {display: inline-block}\n",
       ".list-inline>li:not(:last-child)::after {content: \"\\00b7\"; padding: 0 .5ex}\n",
       "</style>\n",
       "<ol class=list-inline><li>'Authority'</li><li>'Influence'</li><li>'GetOnWell'</li><li>'Belong'</li><li>'DrugUse'</li><li>'Area'</li><li>'Overallpoint'</li></ol>\n"
      ],
      "text/latex": [
       "\\begin{enumerate*}\n",
       "\\item 'Authority'\n",
       "\\item 'Influence'\n",
       "\\item 'GetOnWell'\n",
       "\\item 'Belong'\n",
       "\\item 'DrugUse'\n",
       "\\item 'Area'\n",
       "\\item 'Overallpoint'\n",
       "\\end{enumerate*}\n"
      ],
      "text/markdown": [
       "1. 'Authority'\n",
       "2. 'Influence'\n",
       "3. 'GetOnWell'\n",
       "4. 'Belong'\n",
       "5. 'DrugUse'\n",
       "6. 'Area'\n",
       "7. 'Overallpoint'\n",
       "\n",
       "\n"
      ],
      "text/plain": [
       "[1] \"Authority\"    \"Influence\"    \"GetOnWell\"    \"Belong\"       \"DrugUse\"     \n",
       "[6] \"Area\"         \"Overallpoint\""
      ]
     },
     "metadata": {},
     "output_type": "display_data"
    }
   ],
   "source": [
    "# Rename columns to friendly names (keeps content semantics)\n",
    "colnames(data) <- c(\"Authority\", \"Influence\", \"GetOnWell\", \"Belong\", \"DrugUse\", \"Area\", \"Overallpoint\")\n",
    "\n",
    "# Confirm rename\n",
    "colnames(data)\n"
   ]
  },
  {
   "cell_type": "code",
   "execution_count": 46,
   "id": "e0db566a",
   "metadata": {
    "vscode": {
     "languageId": "r"
    }
   },
   "outputs": [
    {
     "data": {
      "text/html": [
       "0"
      ],
      "text/latex": [
       "0"
      ],
      "text/markdown": [
       "0"
      ],
      "text/plain": [
       "[1] 0"
      ]
     },
     "metadata": {},
     "output_type": "display_data"
    }
   ],
   "source": [
    "# Missing values check\n",
    "total_missing <- sum(is.na(data))\n",
    "total_missing  # print total missing count\n"
   ]
  },
  {
   "cell_type": "markdown",
   "id": "bdce3104",
   "metadata": {},
   "source": [
    "## Descriptive Statistics & Pairwise Relationships\n",
    "\n",
    "We examine distributions, pairwise scatter relationships, and the correlation matrix for the primary numerical variables.\n"
   ]
  },
  {
   "cell_type": "code",
   "execution_count": 47,
   "id": "aec59f65",
   "metadata": {
    "vscode": {
     "languageId": "r"
    }
   },
   "outputs": [],
   "source": [
    "smart_kable <- function(df, caption = NULL, digits = 2) {\n",
    "  # Detect environment type\n",
    "  if (isTRUE(knitr::is_latex_output()) || isTRUE(knitr::is_html_output())) {\n",
    "    # In RMarkdown / Notebook rendering mode\n",
    "    df %>%\n",
    "      kable(caption = caption, digits = digits) %>%\n",
    "      kable_styling(full_width = FALSE)\n",
    "    \n",
    "  } else if (interactive()) {\n",
    "    # In RStudio console or interactive session\n",
    "    # Option 1: try rendering in Viewer with gt\n",
    "    df %>%\n",
    "      gt() %>%\n",
    "      tab_header(title = caption)\n",
    "    \n",
    "  } else {\n",
    "    # Fallback to plain text for basic console output\n",
    "    kable(df, caption = caption, digits = digits, format = \"simple\")\n",
    "  }\n",
    "}"
   ]
  },
  {
   "cell_type": "code",
   "execution_count": 48,
   "id": "2416e70d",
   "metadata": {
    "vscode": {
     "languageId": "r"
    }
   },
   "outputs": [
    {
     "data": {
      "text/plain": [
       "\n",
       "\n",
       "Table: Descriptive statistics for main variables\n",
       "\n",
       "variable         mean     sd    min    max   median\n",
       "-------------  ------  -----  -----  -----  -------\n",
       "Influence       28.68   3.95   19.8   45.7    28.20\n",
       "GetOnWell       77.18   6.65   49.1   91.6    78.40\n",
       "Belong          59.66   6.20   42.8   75.1    59.80\n",
       "DrugUse         28.33   9.16   10.3   60.7    26.80\n",
       "Overallpoint    81.24   7.08   56.0   94.2    82.95"
      ]
     },
     "metadata": {},
     "output_type": "display_data"
    }
   ],
   "source": [
    "desc_table <- data %>%\n",
    "  select(Influence, GetOnWell, Belong, DrugUse, Overallpoint) %>%\n",
    "  summarise(across(\n",
    "    everything(),\n",
    "    list(mean = mean, sd = sd, min = min, max = max, median = median),\n",
    "    .names = \"{.col}---{.fn}\"\n",
    "  )) %>%\n",
    "  pivot_longer(\n",
    "    everything(),\n",
    "    names_to = c(\"variable\", \".value\"),\n",
    "    names_sep = \"---\"\n",
    "  )\n",
    "\n",
    "smart_kable(desc_table, caption = \"Descriptive statistics for main variables\")"
   ]
  },
  {
   "cell_type": "markdown",
   "id": "03a7bae5",
   "metadata": {},
   "source": [
    "#### Interpretation\n",
    "The table above summarizes the central tendency and spread of the key variables.  \n",
    "On average, residents report **moderately high satisfaction** (`Overallpoint ≈ 81`) and **strong community cohesion** (`GetOnWell ≈ 77`).  \n",
    "Perceptions of **drug use** show the greatest variability across areas, while **influence** scores are relatively low and stable.  \n",
    "These descriptive patterns suggest that social harmony and perceived safety may play an important role in shaping overall satisfaction."
   ]
  },
  {
   "cell_type": "code",
   "execution_count": 49,
   "id": "097714dc",
   "metadata": {
    "vscode": {
     "languageId": "r"
    }
   },
   "outputs": [
    {
     "data": {
      "image/png": "[encoded data removed]",
      "text/plain": [
       "plot without title"
      ]
     },
     "metadata": {
      "image/png": {
       "height": 420,
       "width": 420
      }
     },
     "output_type": "display_data"
    }
   ],
   "source": [
    "# Pairwise scatterplot matrix (traditional)\n",
    "pairs(data[c(\"Influence\", \"GetOnWell\", \"Belong\", \"DrugUse\", \"Overallpoint\")],\n",
    "      main = \"Scatterplot Matrix of Variables\")\n"
   ]
  },
  {
   "cell_type": "code",
   "execution_count": 50,
   "id": "dca6e400",
   "metadata": {
    "vscode": {
     "languageId": "r"
    }
   },
   "outputs": [
    {
     "data": {
      "text/html": [
       "<table class=\"dataframe\">\n",
       "<caption>A matrix: 5 × 5 of type dbl</caption>\n",
       "<thead>\n",
       "\t<tr><th></th><th scope=col>Influence</th><th scope=col>GetOnWell</th><th scope=col>Belong</th><th scope=col>DrugUse</th><th scope=col>Overallpoint</th></tr>\n",
       "</thead>\n",
       "<tbody>\n",
       "\t<tr><th scope=row>Influence</th><td> 1.000</td><td> 0.199</td><td>-0.091</td><td>-0.026</td><td> 0.102</td></tr>\n",
       "\t<tr><th scope=row>GetOnWell</th><td> 0.199</td><td> 1.000</td><td> 0.371</td><td>-0.689</td><td> 0.787</td></tr>\n",
       "\t<tr><th scope=row>Belong</th><td>-0.091</td><td> 0.371</td><td> 1.000</td><td>-0.476</td><td> 0.620</td></tr>\n",
       "\t<tr><th scope=row>DrugUse</th><td>-0.026</td><td>-0.689</td><td>-0.476</td><td> 1.000</td><td>-0.846</td></tr>\n",
       "\t<tr><th scope=row>Overallpoint</th><td> 0.102</td><td> 0.787</td><td> 0.620</td><td>-0.846</td><td> 1.000</td></tr>\n",
       "</tbody>\n",
       "</table>\n"
      ],
      "text/latex": [
       "A matrix: 5 × 5 of type dbl\n",
       "\\begin{tabular}{r|lllll}\n",
       "  & Influence & GetOnWell & Belong & DrugUse & Overallpoint\\\\\n",
       "\\hline\n",
       "\tInfluence &  1.000 &  0.199 & -0.091 & -0.026 &  0.102\\\\\n",
       "\tGetOnWell &  0.199 &  1.000 &  0.371 & -0.689 &  0.787\\\\\n",
       "\tBelong & -0.091 &  0.371 &  1.000 & -0.476 &  0.620\\\\\n",
       "\tDrugUse & -0.026 & -0.689 & -0.476 &  1.000 & -0.846\\\\\n",
       "\tOverallpoint &  0.102 &  0.787 &  0.620 & -0.846 &  1.000\\\\\n",
       "\\end{tabular}\n"
      ],
      "text/markdown": [
       "\n",
       "A matrix: 5 × 5 of type dbl\n",
       "\n",
       "| <!--/--> | Influence | GetOnWell | Belong | DrugUse | Overallpoint |\n",
       "|---|---|---|---|---|---|\n",
       "| Influence |  1.000 |  0.199 | -0.091 | -0.026 |  0.102 |\n",
       "| GetOnWell |  0.199 |  1.000 |  0.371 | -0.689 |  0.787 |\n",
       "| Belong | -0.091 |  0.371 |  1.000 | -0.476 |  0.620 |\n",
       "| DrugUse | -0.026 | -0.689 | -0.476 |  1.000 | -0.846 |\n",
       "| Overallpoint |  0.102 |  0.787 |  0.620 | -0.846 |  1.000 |\n",
       "\n"
      ],
      "text/plain": [
       "             Influence GetOnWell Belong DrugUse Overallpoint\n",
       "Influence     1.000     0.199    -0.091 -0.026   0.102      \n",
       "GetOnWell     0.199     1.000     0.371 -0.689   0.787      \n",
       "Belong       -0.091     0.371     1.000 -0.476   0.620      \n",
       "DrugUse      -0.026    -0.689    -0.476  1.000  -0.846      \n",
       "Overallpoint  0.102     0.787     0.620 -0.846   1.000      "
      ]
     },
     "metadata": {},
     "output_type": "display_data"
    }
   ],
   "source": [
    "# Correlation matrix (visual)\n",
    "corr_df <- round(cor(data %>% select(Influence, GetOnWell, Belong, DrugUse, Overallpoint)), 3)\n",
    "corr_df"
   ]
  },
  {
   "cell_type": "markdown",
   "id": "45ae5fc4",
   "metadata": {},
   "source": [
    "### Interpretation (descriptive)\n",
    "- `GetOnWell` and `Belong` appear positively correlated with `Overallpoint`.  \n",
    "- `DrugUse` shows a negative correlation with `Overallpoint` in the aggregate.  \n",
    "- These patterns motivate the multivariate regression to quantify effects while adjusting for the other predictors.\n"
   ]
  },
  {
   "cell_type": "markdown",
   "id": "3092bbbd",
   "metadata": {},
   "source": [
    "## Multiple Linear Regression (Model 1: Nationwide)\n",
    "\n",
    "We fit a multivariate linear regression:\n",
    "`Overallpoint ~ Influence + GetOnWell + Belong + DrugUse`\n",
    "\n",
    "We will inspect coefficients, p-values, R-squared, and perform model diagnostics.\n"
   ]
  },
  {
   "cell_type": "code",
   "execution_count": 51,
   "id": "4aa74080",
   "metadata": {
    "vscode": {
     "languageId": "r"
    }
   },
   "outputs": [
    {
     "data": {
      "text/plain": [
       "\n",
       "Call:\n",
       "lm(formula = Overallpoint ~ Influence + GetOnWell + Belong + \n",
       "    DrugUse, data = data)\n",
       "\n",
       "Residuals:\n",
       "    Min      1Q  Median      3Q     Max \n",
       "-7.9013 -1.6873  0.0456  1.6870  9.7686 \n",
       "\n",
       "Coefficients:\n",
       "            Estimate Std. Error t value Pr(>|t|)    \n",
       "(Intercept) 42.34256    3.35834  12.608   <2e-16 ***\n",
       "Influence    0.07945    0.03901   2.036   0.0425 *  \n",
       "GetOnWell    0.37324    0.03182  11.731   <2e-16 ***\n",
       "Belong       0.30559    0.02739  11.157   <2e-16 ***\n",
       "DrugUse     -0.36784    0.02365 -15.553   <2e-16 ***\n",
       "---\n",
       "Signif. codes:  0 '***' 0.001 '**' 0.01 '*' 0.05 '.' 0.1 ' ' 1\n",
       "\n",
       "Residual standard error: 2.764 on 347 degrees of freedom\n",
       "Multiple R-squared:  0.8492,\tAdjusted R-squared:  0.8475 \n",
       "F-statistic: 488.5 on 4 and 347 DF,  p-value: < 2.2e-16\n"
      ]
     },
     "metadata": {},
     "output_type": "display_data"
    }
   ],
   "source": [
    "# Fit Model 1\n",
    "model1 <- lm(Overallpoint ~ Influence + GetOnWell + Belong + DrugUse, data = data)\n",
    "# Classic summary\n",
    "summary(model1)"
   ]
  },
  {
   "cell_type": "code",
   "execution_count": 52,
   "id": "63f4ddcd",
   "metadata": {
    "vscode": {
     "languageId": "r"
    }
   },
   "outputs": [
    {
     "data": {
      "text/plain": [
       "\n",
       "\n",
       "Table: Model 1: Coefficients and test statistics\n",
       "\n",
       "term           estimate   std.error   statistic   p.value\n",
       "------------  ---------  ----------  ----------  --------\n",
       "(Intercept)       42.34        3.36       12.61      0.00\n",
       "Influence          0.08        0.04        2.04      0.04\n",
       "GetOnWell          0.37        0.03       11.73      0.00\n",
       "Belong             0.31        0.03       11.16      0.00\n",
       "DrugUse           -0.37        0.02      -15.55      0.00"
      ]
     },
     "metadata": {},
     "output_type": "display_data"
    }
   ],
   "source": [
    "# Tidy results and formatted table\n",
    "model1_tidy <- tidy(model1) %>%\n",
    "  mutate(\n",
    "    estimate = round(estimate, 4),\n",
    "    std.error = round(std.error, 4),\n",
    "    statistic = round(statistic, 3),\n",
    "    p.value = round(p.value, 4)\n",
    "  )\n",
    "\n",
    "smart_kable(model1_tidy, caption = \"Model 1: Coefficients and test statistics\")\n"
   ]
  },
  {
   "cell_type": "markdown",
   "id": "c34f766a",
   "metadata": {},
   "source": [
    "### Interpretation (Model 1)\n",
    "- Coefficients indicate the estimated change in `Overallpoint` per unit change in each predictor, holding others constant.  \n",
    "- `GetOnWell` and `Belong` have the largest positive coefficients, while `DrugUse` has a negative coefficient.  \n",
    "- We will verify assumptions using diagnostic plots and additional checks (VIF for multicollinearity).\n"
   ]
  },
  {
   "cell_type": "code",
   "execution_count": 53,
   "id": "e18f2b13",
   "metadata": {
    "vscode": {
     "languageId": "r"
    }
   },
   "outputs": [
    {
     "name": "stderr",
     "output_type": "stream",
     "text": [
      "\u001b[1m\u001b[22m`geom_smooth()` using formula = 'y ~ x'\n",
      "\u001b[1m\u001b[22m`geom_smooth()` using formula = 'y ~ x'\n"
     ]
    },
    {
     "data": {
      "image/png": "[encoded data removed]",
      "text/plain": [
       "plot without title"
      ]
     },
     "metadata": {
      "image/png": {
       "height": 420,
       "width": 420
      }
     },
     "output_type": "display_data"
    }
   ],
   "source": [
    "# Use broom::augment to get residuals & fitted\n",
    "aug1 <- augment(model1)\n",
    "\n",
    "# Residuals vs Fitted (ggplot)\n",
    "p1 <- ggplot(aug1, aes(.fitted, .resid)) +\n",
    "  geom_point(alpha = 0.6) +\n",
    "  geom_hline(yintercept = 0, linetype = \"dashed\", color = \"red\") +\n",
    "  labs(title = \"Residuals vs Fitted\", x = \"Fitted values\", y = \"Residuals\") +\n",
    "  theme_minimal()\n",
    "\n",
    "# Normal Q-Q (ggplot)\n",
    "p2 <- ggplot(aug1, aes(sample = .std.resid)) +\n",
    "  stat_qq(alpha = 0.6) +\n",
    "  stat_qq_line(color = \"red\") +\n",
    "  labs(title = \"Normal Q-Q (standardized residuals)\") +\n",
    "  theme_minimal()\n",
    "\n",
    "# Scale-Location (sqrt of standardized residuals vs fitted)\n",
    "p3 <- ggplot(aug1, aes(.fitted, sqrt(abs(.std.resid)))) +\n",
    "  geom_point(alpha = 0.6) +\n",
    "  geom_smooth(se = FALSE, method = \"loess\", color = \"blue\") +\n",
    "  labs(title = \"Scale-Location (Spread-Location)\", x = \"Fitted values\", y = \"Sqrt(|standardized residuals|)\") +\n",
    "  theme_minimal()\n",
    "\n",
    "# Residuals vs Leverage\n",
    "p4 <- ggplot(aug1, aes(.hat, .std.resid)) +\n",
    "  geom_point(aes(size = .cooksd), alpha = 0.6) +\n",
    "  geom_smooth(se = FALSE, method = \"loess\", color = \"blue\") +\n",
    "  labs(title = \"Residuals vs Leverage\", x = \"Leverage\", y = \"Standardized residuals\") +\n",
    "  theme_minimal()\n",
    "\n",
    "# Arrange plots\n",
    "ggarrange(p1, p2, p3, p4, ncol = 2, nrow = 2)\n"
   ]
  },
  {
   "cell_type": "markdown",
   "id": "0bd58af7",
   "metadata": {},
   "source": [
    "## Multicollinearity Check and Model Fit\n",
    "\n",
    "We calculate Variance Inflation Factors (VIF) to check for multicollinearity, and report R-squared / Adjusted R-squared values.\n"
   ]
  },
  {
   "cell_type": "code",
   "execution_count": 54,
   "id": "7e856edb",
   "metadata": {
    "vscode": {
     "languageId": "r"
    }
   },
   "outputs": [
    {
     "data": {
      "text/html": [
       "<style>\n",
       ".dl-inline {width: auto; margin:0; padding: 0}\n",
       ".dl-inline>dt, .dl-inline>dd {float: none; width: auto; display: inline-block}\n",
       ".dl-inline>dt::after {content: \":\\0020\"; padding-right: .5ex}\n",
       ".dl-inline>dt:not(:first-of-type) {padding-left: .5ex}\n",
       "</style><dl class=dl-inline><dt>Influence</dt><dd>1.08885217187348</dd><dt>GetOnWell</dt><dd>2.05343841581461</dd><dt>Belong</dt><dd>1.32450542582934</dd><dt>DrugUse</dt><dd>2.15689199778264</dd></dl>\n"
      ],
      "text/latex": [
       "\\begin{description*}\n",
       "\\item[Influence] 1.08885217187348\n",
       "\\item[GetOnWell] 2.05343841581461\n",
       "\\item[Belong] 1.32450542582934\n",
       "\\item[DrugUse] 2.15689199778264\n",
       "\\end{description*}\n"
      ],
      "text/markdown": [
       "Influence\n",
       ":   1.08885217187348GetOnWell\n",
       ":   2.05343841581461Belong\n",
       ":   1.32450542582934DrugUse\n",
       ":   2.15689199778264\n",
       "\n"
      ],
      "text/plain": [
       "Influence GetOnWell    Belong   DrugUse \n",
       " 1.088852  2.053438  1.324505  2.156892 "
      ]
     },
     "metadata": {},
     "output_type": "display_data"
    }
   ],
   "source": [
    "# VIF\n",
    "vif_vals <- vif(model1)\n",
    "vif_vals\n"
   ]
  },
  {
   "cell_type": "code",
   "execution_count": 55,
   "id": "15b8e6ed",
   "metadata": {
    "vscode": {
     "languageId": "r"
    }
   },
   "outputs": [
    {
     "data": {
      "text/plain": [
       "\n",
       "\n",
       "Table: Model 1: Fit statistics\n",
       "\n",
       "         R_squared   Adj_R_squared   F_stat   F_p_value\n",
       "------  ----------  --------------  -------  ----------\n",
       "value         0.85            0.85   488.55           0"
      ]
     },
     "metadata": {},
     "output_type": "display_data"
    }
   ],
   "source": [
    "# R-squared\n",
    "glance_vals <- glance(model1)\n",
    "fit_stats <- data.frame(\n",
    "  R_squared = round(glance_vals$r.squared, 4),\n",
    "  Adj_R_squared = round(glance_vals$adj.r.squared, 4),\n",
    "  F_stat = round(glance_vals$statistic, 2),\n",
    "  F_p_value = signif(glance_vals$p.value, 3)\n",
    ")\n",
    "\n",
    "smart_kable(fit_stats, caption = \"Model 1: Fit statistics\")"
   ]
  },
  {
   "cell_type": "markdown",
   "id": "0a4ac298",
   "metadata": {},
   "source": [
    "### Diagnostics Interpretation\n",
    "- **Residuals vs Fitted**: Random scatter near zero indicates acceptable homoscedasticity.  \n",
    "- **Normal Q-Q**: Close alignment suggests approximate normality of residuals.  \n",
    "- **Scale-Location**: No apparent pattern -> homoscedasticity likely acceptable.  \n",
    "- **Residuals vs Leverage**: No very influential points (though check Cook's distance if needed).  \n",
    "- **VIF**: Values < 5 (or <10 depending on threshold) -> multicollinearity not a severe issue.  \n",
    "- **R-squared**: High R^2 indicates good explanatory power on observed data; interpret cautiously.\n"
   ]
  },
  {
   "cell_type": "markdown",
   "id": "44a24405",
   "metadata": {},
   "source": [
    "## Regional Models (Model 2): Fitting the same model by Area\n",
    "\n",
    "We fit the same linear model separately for each region in `Area` to understand geographic heterogeneity in the effects of predictors on `Overallpoint`.\n"
   ]
  },
  {
   "cell_type": "code",
   "execution_count": 56,
   "id": "72673f06",
   "metadata": {
    "vscode": {
     "languageId": "r"
    }
   },
   "outputs": [
    {
     "data": {
      "text/html": [
       "<table class=\"dataframe\">\n",
       "<caption>A tibble: 6 × 6</caption>\n",
       "<thead>\n",
       "\t<tr><th scope=col>term</th><th scope=col>estimate</th><th scope=col>std.error</th><th scope=col>statistic</th><th scope=col>p.value</th><th scope=col>Area</th></tr>\n",
       "\t<tr><th scope=col>&lt;chr&gt;</th><th scope=col>&lt;dbl&gt;</th><th scope=col>&lt;dbl&gt;</th><th scope=col>&lt;dbl&gt;</th><th scope=col>&lt;dbl&gt;</th><th scope=col>&lt;chr&gt;</th></tr>\n",
       "</thead>\n",
       "<tbody>\n",
       "\t<tr><td>(Intercept)</td><td>46.6877177</td><td>17.0791058</td><td> 2.7336161</td><td>0.0107345661</td><td>London    </td></tr>\n",
       "\t<tr><td>Influence  </td><td>-0.1067935</td><td> 0.2139796</td><td>-0.4990829</td><td>0.6216197496</td><td>London    </td></tr>\n",
       "\t<tr><td>GetOnWell  </td><td> 0.6569830</td><td> 0.1740993</td><td> 3.7736118</td><td>0.0007684320</td><td>London    </td></tr>\n",
       "\t<tr><td>Belong     </td><td>-0.1174063</td><td> 0.2450392</td><td>-0.4791326</td><td>0.6355651713</td><td>London    </td></tr>\n",
       "\t<tr><td>DrugUse    </td><td>-0.3242499</td><td> 0.1106528</td><td>-2.9303372</td><td>0.0066689653</td><td>London    </td></tr>\n",
       "\t<tr><td>(Intercept)</td><td>35.1130981</td><td> 8.2069146</td><td> 4.2784774</td><td>0.0001327264</td><td>North West</td></tr>\n",
       "</tbody>\n",
       "</table>\n"
      ],
      "text/latex": [
       "A tibble: 6 × 6\n",
       "\\begin{tabular}{llllll}\n",
       " term & estimate & std.error & statistic & p.value & Area\\\\\n",
       " <chr> & <dbl> & <dbl> & <dbl> & <dbl> & <chr>\\\\\n",
       "\\hline\n",
       "\t (Intercept) & 46.6877177 & 17.0791058 &  2.7336161 & 0.0107345661 & London    \\\\\n",
       "\t Influence   & -0.1067935 &  0.2139796 & -0.4990829 & 0.6216197496 & London    \\\\\n",
       "\t GetOnWell   &  0.6569830 &  0.1740993 &  3.7736118 & 0.0007684320 & London    \\\\\n",
       "\t Belong      & -0.1174063 &  0.2450392 & -0.4791326 & 0.6355651713 & London    \\\\\n",
       "\t DrugUse     & -0.3242499 &  0.1106528 & -2.9303372 & 0.0066689653 & London    \\\\\n",
       "\t (Intercept) & 35.1130981 &  8.2069146 &  4.2784774 & 0.0001327264 & North West\\\\\n",
       "\\end{tabular}\n"
      ],
      "text/markdown": [
       "\n",
       "A tibble: 6 × 6\n",
       "\n",
       "| term &lt;chr&gt; | estimate &lt;dbl&gt; | std.error &lt;dbl&gt; | statistic &lt;dbl&gt; | p.value &lt;dbl&gt; | Area &lt;chr&gt; |\n",
       "|---|---|---|---|---|---|\n",
       "| (Intercept) | 46.6877177 | 17.0791058 |  2.7336161 | 0.0107345661 | London     |\n",
       "| Influence   | -0.1067935 |  0.2139796 | -0.4990829 | 0.6216197496 | London     |\n",
       "| GetOnWell   |  0.6569830 |  0.1740993 |  3.7736118 | 0.0007684320 | London     |\n",
       "| Belong      | -0.1174063 |  0.2450392 | -0.4791326 | 0.6355651713 | London     |\n",
       "| DrugUse     | -0.3242499 |  0.1106528 | -2.9303372 | 0.0066689653 | London     |\n",
       "| (Intercept) | 35.1130981 |  8.2069146 |  4.2784774 | 0.0001327264 | North West |\n",
       "\n"
      ],
      "text/plain": [
       "  term        estimate   std.error  statistic  p.value      Area      \n",
       "1 (Intercept) 46.6877177 17.0791058  2.7336161 0.0107345661 London    \n",
       "2 Influence   -0.1067935  0.2139796 -0.4990829 0.6216197496 London    \n",
       "3 GetOnWell    0.6569830  0.1740993  3.7736118 0.0007684320 London    \n",
       "4 Belong      -0.1174063  0.2450392 -0.4791326 0.6355651713 London    \n",
       "5 DrugUse     -0.3242499  0.1106528 -2.9303372 0.0066689653 London    \n",
       "6 (Intercept) 35.1130981  8.2069146  4.2784774 0.0001327264 North West"
      ]
     },
     "metadata": {},
     "output_type": "display_data"
    }
   ],
   "source": [
    "# Regional analysis function: returns lm object (not summary) for flexibility\n",
    "regional_analysis_model <- function(region_name) {\n",
    "  subset_data <- data %>% filter(Area == region_name)\n",
    "  # Only run model if there are sufficient observations\n",
    "  if(nrow(subset_data) < 10) {\n",
    "    return(NULL)\n",
    "  }\n",
    "  model <- lm(Overallpoint ~ Influence + GetOnWell + Belong + DrugUse, data = subset_data)\n",
    "  return(model)\n",
    "}\n",
    "\n",
    "# Get area names\n",
    "areas <- unique(data$Area)\n",
    "\n",
    "# Fit models and collect tidy coefficients\n",
    "regional_models <- lapply(areas, regional_analysis_model)\n",
    "names(regional_models) <- areas\n",
    "\n",
    "# Create a dataframe of coefficients (include area)\n",
    "regional_coefficients <- bind_rows(lapply(names(regional_models), function(a) {\n",
    "  mod <- regional_models[[a]]\n",
    "  if(is.null(mod)) return(NULL)\n",
    "  tidy(mod) %>% mutate(Area = a)\n",
    "}), .id = NULL)\n",
    "\n",
    "# Keep only the main terms (and intercept optionally)\n",
    "regional_coefficients <- regional_coefficients %>% \n",
    "  mutate(term = as.character(term)) \n",
    "head(regional_coefficients)\n"
   ]
  },
  {
   "cell_type": "markdown",
   "id": "17b59540",
   "metadata": {},
   "source": [
    "### Visualising regional coefficients\n",
    "\n",
    "We plot the regression coefficients for the four predictors across regions to show how effects vary geographically.\n"
   ]
  },
  {
   "cell_type": "code",
   "execution_count": 57,
   "id": "e9c80478",
   "metadata": {
    "vscode": {
     "languageId": "r"
    }
   },
   "outputs": [
    {
     "data": {
      "image/png": "[encoded data removed]",
      "text/plain": [
       "plot without title"
      ]
     },
     "metadata": {
      "image/png": {
       "height": 420,
       "width": 420
      }
     },
     "output_type": "display_data"
    }
   ],
   "source": [
    "# Filter out intercept\n",
    "regional_coefficients_no_intercept <- regional_coefficients %>% filter(term != \"(Intercept)\")\n",
    "\n",
    "# Factor term ordering for nice x-axis\n",
    "regional_coefficients_no_intercept$term <- factor(regional_coefficients_no_intercept$term, levels = c(\"Influence\", \"GetOnWell\", \"Belong\", \"DrugUse\"))\n",
    "\n",
    "\n",
    "regional_faceted_plot <- ggplot(regional_coefficients_no_intercept, aes(x = term, y = estimate, fill = term)) +\n",
    "  # Use geom_col for a bar chart where height is the 'estimate' value\n",
    "  geom_col() +\n",
    "  \n",
    "  # Add a horizontal line at y=0 to clearly separate positive and negative effects\n",
    "  geom_hline(yintercept = 0, color = \"black\", linetype = \"solid\") +\n",
    "  \n",
    "  # Create a grid of plots, with one panel for each 'Area'\n",
    "  facet_wrap(~ Area, ncol = 3) +\n",
    "  \n",
    "  # Add informative labels and a title\n",
    "  labs(\n",
    "    title = \"Relationship Between Predictors and Overall Satisfaction by Region\",\n",
    "    subtitle = \"Bars represent the regression coefficient for each factor\",\n",
    "    x = \"Factor\",\n",
    "    y = \"Coefficient Estimate (Impact on Satisfaction)\"\n",
    "  ) +\n",
    "  \n",
    "  # Use a clean theme and adjust text for readability\n",
    "  theme_minimal() +\n",
    "  theme(\n",
    "    axis.text.x = element_text(angle = 45, hjust = 1), # Rotate x-axis labels\n",
    "    legend.position = \"none\",                          # Hide legend as colors are redundant\n",
    "    strip.text = element_text(face = \"bold\")           # Make region titles bold\n",
    "  )\n",
    "\n",
    "# Display the plot\n",
    "print(regional_faceted_plot)\n",
    "\n"
   ]
  },
  {
   "cell_type": "markdown",
   "id": "777e7781",
   "metadata": {},
   "source": [
    "### Interpretation: Regional Patterns\n",
    "\n",
    "Across England, the drivers of resident satisfaction vary notably by region.  \n",
    "**Community Cohesion (`GetOnWell`)** consistently predicts higher satisfaction - especially in **London**, where its impact is strongest.  \n",
    "**Perceived Drug Use (`DrugUse`)** shows a strong negative effect almost everywhere, highlighting a common social concern.  \n",
    "In **London**, however, both **`Influence`** and **`Belong`** are slightly negative, suggesting that community harmony outweighs other factors in shaping satisfaction.\n"
   ]
  },
  {
   "cell_type": "code",
   "execution_count": 58,
   "id": "9b1e3c17",
   "metadata": {
    "vscode": {
     "languageId": "r"
    }
   },
   "outputs": [
    {
     "data": {
      "image/png": "[encoded data removed]",
      "text/plain": [
       "plot without title"
      ]
     },
     "metadata": {
      "image/png": {
       "height": 420,
       "width": 420
      }
     },
     "output_type": "display_data"
    }
   ],
   "source": [
    "# Plot: coefficient bars grouped by term with area color (narrowly arranged)\n",
    "plot_difference2 <- ggplot(regional_coefficients_no_intercept, aes(x = term, y = estimate, fill = Area)) +\n",
    "  geom_col(position = position_dodge(width = 0.9), width = 0.8) +\n",
    "  labs(title = \"Regression Coefficients by Area (no intercept)\", x = \"Variables\", y = \"Coefficient Estimate\") +\n",
    "  theme_minimal() +\n",
    "  theme(axis.text.x = element_text(angle = 0, hjust = 0.5), legend.position = \"right\")\n",
    "\n",
    "plot_difference2"
   ]
  },
  {
   "cell_type": "markdown",
   "id": "8a9fc21d",
   "metadata": {},
   "source": [
    "### Interpretation: Factor Comparison Across Regions\n",
    "\n",
    "This view compares how each factor’s effect differs between regions.  \n",
    "**`GetOnWell`** has the largest positive coefficient in **London**, while **`DrugUse`** shows the steepest negative effect in **Yorkshire and The Humber**.  \n",
    "Although this plot highlights contrasts for individual factors, it’s less intuitive for seeing how multiple factors interact within the same region."
   ]
  },
  {
   "cell_type": "code",
   "execution_count": 59,
   "id": "61ecd065",
   "metadata": {
    "vscode": {
     "languageId": "r"
    }
   },
   "outputs": [
    {
     "name": "stdout",
     "output_type": "stream",
     "text": [
      "\n",
      "\n",
      "-------Region: London -------\n",
      "\n",
      "Call:\n",
      "lm(formula = Overallpoint ~ Influence + GetOnWell + Belong + \n",
      "    DrugUse, data = subset_data)\n",
      "\n",
      "Residuals:\n",
      "    Min      1Q  Median      3Q     Max \n",
      "-5.9562 -4.5317  0.5505  3.1444  9.8055 \n",
      "\n",
      "Coefficients:\n",
      "            Estimate Std. Error t value Pr(>|t|)    \n",
      "(Intercept)  46.6877    17.0791   2.734 0.010735 *  \n",
      "Influence    -0.1068     0.2140  -0.499 0.621620    \n",
      "GetOnWell     0.6570     0.1741   3.774 0.000768 ***\n",
      "Belong       -0.1174     0.2450  -0.479 0.635565    \n",
      "DrugUse      -0.3242     0.1107  -2.930 0.006669 ** \n",
      "---\n",
      "Signif. codes:  0 '***' 0.001 '**' 0.01 '*' 0.05 '.' 0.1 ' ' 1\n",
      "\n",
      "Residual standard error: 4.647 on 28 degrees of freedom\n",
      "Multiple R-squared:  0.7647,\tAdjusted R-squared:  0.7311 \n",
      "F-statistic: 22.75 on 4 and 28 DF,  p-value: 1.864e-08\n",
      "\n",
      "\n",
      "No model (or too few observations) for region: North East \n"
     ]
    }
   ],
   "source": [
    "for(region in c(\"London\", \"North East\")) {\n",
    "  if(!is.null(regional_models[[region]])) {\n",
    "    cat(\"\\n\\n-------Region:\", region, \"-------\\n\")\n",
    "    print(summary(regional_models[[region]]))\n",
    "  } else {\n",
    "    cat(\"\\nNo model (or too few observations) for region:\", region, \"\\n\")\n",
    "  }\n",
    "}\n"
   ]
  },
  {
   "cell_type": "markdown",
   "id": "ad1bcfbb",
   "metadata": {},
   "source": [
    "## Limitations & Considerations\n",
    "\n",
    "- **Causality:** This analysis is observational and identifies associations, not causal effects.  \n",
    "- **Data granularity:** The data are percentages of “yes” responses - binary to aggregate transformation loses nuance.  \n",
    "- **Omitted variables:** Important predictors (economic indicators, housing, demographics) are not included.  \n",
    "- **Region sample sizes:** Some regions may have limited observations; be cautious interpreting those region-specific models.\n"
   ]
  }
 ],
 "metadata": {
  "kernelspec": {
   "display_name": "R 4.5.1 (Latest)",
   "language": "R",
   "name": "r-4-5-1"
  },
  "language_info": {
   "codemirror_mode": "r",
   "file_extension": ".r",
   "mimetype": "text/x-r-source",
   "name": "R",
   "pygments_lexer": "r",
   "version": "4.5.1"
  }
 },
 "nbformat": 4,
 "nbformat_minor": 5
}
